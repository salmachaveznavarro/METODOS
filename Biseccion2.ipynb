{
 "cells": [
  {
   "cell_type": "markdown",
   "metadata": {},
   "source": [
    "Biseccion correcciones"
   ]
  },
  {
   "cell_type": "code",
   "execution_count": 21,
   "metadata": {},
   "outputs": [],
   "source": [
    "\n",
    "from typing import Annotated\n",
    "\n",
    "\n",
    "delta=0.001\n",
    "funct=[]\n",
    "exps= []\n",
    "tabm=[]\n",
    "tabfi=[]\n",
    "sumap=[]\n",
    "j=0\n",
    "def val(x):\n",
    "    for i in range (0,x+1,1):\n",
    "        coef= input(\"Ingrese el coeficiente: \")\n",
    "        coef=int(coef)\n",
    "        funct.append(coef)\n",
    "def tab1(y): # potencia\n",
    "    for x in range(grado+1,0,-1):\n",
    "        exp= pow(y,x-1)\n",
    "        exp= int(exp)\n",
    "        exps.append(exp)\n",
    "def tab2(x,y): # multiplica las listas de coeficientes y variables elevadas\n",
    "    for s in range (0,grado+1,1):\n",
    "        x1=(x[s])*(y[s])\n",
    "        x1=int(x1)\n",
    "        tabm.append(x1)\n",
    "grado= input(\"Ingrese el grado de la función: \")\n",
    "grado= int(grado)\n",
    "val(grado) # Aqui ya se ingresaron los coeficientes.\n",
    "LI= input(\"Ingresa un límite inferior: \")\n",
    "LS= input(\"Ingresa un limite superior: \")\n",
    "LI= int (LI)\n",
    "LS = int (LS)\n",
    "pm=float((LI+LS)/2)\n",
    "\n",
    "tab1(pm)\n",
    "print(funct, \"hola\")\n",
    "tab2(exps,funct)\n",
    "sumapm=sum(tabm)\n",
    "\n",
    "\n",
    "x0=0\n",
    "x1=1\n",
    "tab1(0)\n",
    "tab2(exps,funct)\n",
    "y0= sum(tabm)\n",
    "tab1(1)\n",
    "tab2(exps,funct)\n",
    "y1= sum(tabm)\n",
    "\n",
    "if ((funct[0])>0 and (funct[grado])>0) or ((funct[0])<0 and (funct[grado])<0):\n",
    "    print(\"Esta función no tiene raíces reales.\")\n",
    "else:\n",
    "    while pm!= delta:\n",
    "        \n",
    "        if x0<x1 and y0<y1:\n",
    "            if (sumapm > 0):\n",
    "                LS= pm\n",
    "                pm=float((LI+LS)/2)\n",
    "            elif (sumapm < 0):\n",
    "                LI= pm\n",
    "                pm=float((LI+LS)/2)\n",
    "            elif (sumapm==0):\n",
    "                print(f\"Esta es la raiz, se encuentra en {pm}.\")\n",
    "                break\n",
    "            print(f\"El nuevo limite inferior es {LI} y el superior es {LS}\")\n",
    "          \n",
    "    \n",
    "        elif x0<x1 and y0>y1:\n",
    "            if (sumapm > 0):\n",
    "                LI= pm\n",
    "                pm=float((LI+LS)/2)\n",
    "            elif (sumapm < 0):\n",
    "                LS= pm\n",
    "                pm=float((LI+LS)/2)\n",
    "            elif (sumapm==0):\n",
    "                print(f\"Esta es la raiz, se encuentra en {pm}.\")\n",
    "                break\n",
    "            print(f\"El nuevo limite inferior es {LI} y el superior es {LS}\")\n",
    "        \n",
    "    print (f\"La raiz se encuentra aproximadamente en  {pm} sobre el eje x.\")\n",
    "        "
   ]
  }
 ],
 "metadata": {
  "kernelspec": {
   "display_name": "Python 3.9.7 64-bit",
   "language": "python",
   "name": "python3"
  },
  "language_info": {
   "codemirror_mode": {
    "name": "ipython",
    "version": 3
   },
   "file_extension": ".py",
   "mimetype": "text/x-python",
   "name": "python",
   "nbconvert_exporter": "python",
   "pygments_lexer": "ipython3",
   "version": "3.9.7"
  },
  "orig_nbformat": 4,
  "vscode": {
   "interpreter": {
    "hash": "aee8b7b246df8f9039afb4144a1f6fd8d2ca17a180786b69acc140d282b71a49"
   }
  }
 },
 "nbformat": 4,
 "nbformat_minor": 2
}
